{
 "cells": [
  {
   "cell_type": "code",
   "execution_count": 1,
   "id": "1dd50595",
   "metadata": {},
   "outputs": [],
   "source": [
    "import pandas as pd"
   ]
  },
  {
   "cell_type": "code",
   "execution_count": null,
   "id": "6064d3ff",
   "metadata": {},
   "outputs": [],
   "source": []
  },
  {
   "cell_type": "code",
   "execution_count": 2,
   "id": "09f99345",
   "metadata": {},
   "outputs": [],
   "source": [
    "listings_ams = pd.read_csv('../data/cleaned/listings_ams.csv', index_col=0)"
   ]
  },
  {
   "cell_type": "code",
   "execution_count": 3,
   "id": "d316d3d6",
   "metadata": {},
   "outputs": [
    {
     "data": {
      "text/plain": [
       "(6809, 33)"
      ]
     },
     "execution_count": 3,
     "metadata": {},
     "output_type": "execute_result"
    }
   ],
   "source": [
    "listings_ams.shape"
   ]
  },
  {
   "cell_type": "code",
   "execution_count": 4,
   "id": "192215df",
   "metadata": {},
   "outputs": [
    {
     "data": {
      "text/html": [
       "<div>\n",
       "<style scoped>\n",
       "    .dataframe tbody tr th:only-of-type {\n",
       "        vertical-align: middle;\n",
       "    }\n",
       "\n",
       "    .dataframe tbody tr th {\n",
       "        vertical-align: top;\n",
       "    }\n",
       "\n",
       "    .dataframe thead th {\n",
       "        text-align: right;\n",
       "    }\n",
       "</style>\n",
       "<table border=\"1\" class=\"dataframe\">\n",
       "  <thead>\n",
       "    <tr style=\"text-align: right;\">\n",
       "      <th></th>\n",
       "      <th>name</th>\n",
       "      <th>description</th>\n",
       "      <th>neighborhood_overview</th>\n",
       "      <th>host_id</th>\n",
       "      <th>host_about</th>\n",
       "      <th>host_response_time</th>\n",
       "      <th>host_response_rate</th>\n",
       "      <th>host_acceptance_rate</th>\n",
       "      <th>host_is_superhost</th>\n",
       "      <th>host_identity_verified</th>\n",
       "      <th>...</th>\n",
       "      <th>has_availability</th>\n",
       "      <th>number_of_reviews</th>\n",
       "      <th>review_scores_rating</th>\n",
       "      <th>review_scores_accuracy</th>\n",
       "      <th>review_scores_cleanliness</th>\n",
       "      <th>review_scores_checkin</th>\n",
       "      <th>review_scores_communication</th>\n",
       "      <th>review_scores_location</th>\n",
       "      <th>review_scores_value</th>\n",
       "      <th>instant_bookable</th>\n",
       "    </tr>\n",
       "  </thead>\n",
       "  <tbody>\n",
       "    <tr>\n",
       "      <th>0</th>\n",
       "      <td>Somewhere Else</td>\n",
       "      <td>Highlights&lt;br /&gt;*Located only 5 minutes from C...</td>\n",
       "      <td>NaN</td>\n",
       "      <td>2594559</td>\n",
       "      <td>NaN</td>\n",
       "      <td>within a day</td>\n",
       "      <td>87%</td>\n",
       "      <td>96%</td>\n",
       "      <td>f</td>\n",
       "      <td>t</td>\n",
       "      <td>...</td>\n",
       "      <td>t</td>\n",
       "      <td>248</td>\n",
       "      <td>4.85</td>\n",
       "      <td>4.88</td>\n",
       "      <td>4.83</td>\n",
       "      <td>4.93</td>\n",
       "      <td>4.90</td>\n",
       "      <td>4.78</td>\n",
       "      <td>4.72</td>\n",
       "      <td>f</td>\n",
       "    </tr>\n",
       "    <tr>\n",
       "      <th>1</th>\n",
       "      <td>Quiet Garden View Room &amp; Super Fast Wi-Fi</td>\n",
       "      <td>Quiet Garden View Room &amp; Super Fast Wi-Fi&lt;br /...</td>\n",
       "      <td>Indische Buurt (\"Indies Neighborhood\") is a ne...</td>\n",
       "      <td>3159</td>\n",
       "      <td>Upon arriving in Amsterdam, one can imagine as...</td>\n",
       "      <td>within an hour</td>\n",
       "      <td>100%</td>\n",
       "      <td>100%</td>\n",
       "      <td>t</td>\n",
       "      <td>t</td>\n",
       "      <td>...</td>\n",
       "      <td>t</td>\n",
       "      <td>314</td>\n",
       "      <td>4.89</td>\n",
       "      <td>4.93</td>\n",
       "      <td>4.99</td>\n",
       "      <td>4.97</td>\n",
       "      <td>4.98</td>\n",
       "      <td>4.69</td>\n",
       "      <td>4.81</td>\n",
       "      <td>f</td>\n",
       "    </tr>\n",
       "    <tr>\n",
       "      <th>2</th>\n",
       "      <td>Studio with private bathroom in the centre 1</td>\n",
       "      <td>17th century Dutch townhouse in the heart of t...</td>\n",
       "      <td>Located just in between famous central canals....</td>\n",
       "      <td>59484</td>\n",
       "      <td>+ (Phone number hidden by Airbnb)</td>\n",
       "      <td>within an hour</td>\n",
       "      <td>100%</td>\n",
       "      <td>98%</td>\n",
       "      <td>f</td>\n",
       "      <td>t</td>\n",
       "      <td>...</td>\n",
       "      <td>t</td>\n",
       "      <td>339</td>\n",
       "      <td>4.44</td>\n",
       "      <td>4.69</td>\n",
       "      <td>4.79</td>\n",
       "      <td>4.63</td>\n",
       "      <td>4.62</td>\n",
       "      <td>4.87</td>\n",
       "      <td>4.49</td>\n",
       "      <td>t</td>\n",
       "    </tr>\n",
       "    <tr>\n",
       "      <th>3</th>\n",
       "      <td>Romantic, stylish B&amp;B houseboat in canal district</td>\n",
       "      <td>Stylish and romantic houseboat on fantastic hi...</td>\n",
       "      <td>Central, quiet, safe, clean and beautiful.</td>\n",
       "      <td>97647</td>\n",
       "      <td>Marjan works in \"eye\" the dutch filmmuseum, an...</td>\n",
       "      <td>within an hour</td>\n",
       "      <td>100%</td>\n",
       "      <td>100%</td>\n",
       "      <td>t</td>\n",
       "      <td>t</td>\n",
       "      <td>...</td>\n",
       "      <td>t</td>\n",
       "      <td>243</td>\n",
       "      <td>4.94</td>\n",
       "      <td>4.93</td>\n",
       "      <td>4.95</td>\n",
       "      <td>4.95</td>\n",
       "      <td>4.92</td>\n",
       "      <td>4.89</td>\n",
       "      <td>4.79</td>\n",
       "      <td>t</td>\n",
       "    </tr>\n",
       "    <tr>\n",
       "      <th>4</th>\n",
       "      <td>Comfortable double room</td>\n",
       "      <td>&lt;b&gt;The space&lt;/b&gt;&lt;br /&gt;In a monumental house ri...</td>\n",
       "      <td>Flower market , Leidseplein , Rembrantsplein</td>\n",
       "      <td>124245</td>\n",
       "      <td>Hi</td>\n",
       "      <td>within a few hours</td>\n",
       "      <td>100%</td>\n",
       "      <td>100%</td>\n",
       "      <td>t</td>\n",
       "      <td>t</td>\n",
       "      <td>...</td>\n",
       "      <td>t</td>\n",
       "      <td>454</td>\n",
       "      <td>4.88</td>\n",
       "      <td>4.93</td>\n",
       "      <td>4.89</td>\n",
       "      <td>4.95</td>\n",
       "      <td>4.94</td>\n",
       "      <td>4.97</td>\n",
       "      <td>4.83</td>\n",
       "      <td>f</td>\n",
       "    </tr>\n",
       "  </tbody>\n",
       "</table>\n",
       "<p>5 rows × 33 columns</p>\n",
       "</div>"
      ],
      "text/plain": [
       "                                                name  \\\n",
       "0                                     Somewhere Else   \n",
       "1          Quiet Garden View Room & Super Fast Wi-Fi   \n",
       "2       Studio with private bathroom in the centre 1   \n",
       "3  Romantic, stylish B&B houseboat in canal district   \n",
       "4                            Comfortable double room   \n",
       "\n",
       "                                         description  \\\n",
       "0  Highlights<br />*Located only 5 minutes from C...   \n",
       "1  Quiet Garden View Room & Super Fast Wi-Fi<br /...   \n",
       "2  17th century Dutch townhouse in the heart of t...   \n",
       "3  Stylish and romantic houseboat on fantastic hi...   \n",
       "4  <b>The space</b><br />In a monumental house ri...   \n",
       "\n",
       "                               neighborhood_overview  host_id  \\\n",
       "0                                                NaN  2594559   \n",
       "1  Indische Buurt (\"Indies Neighborhood\") is a ne...     3159   \n",
       "2  Located just in between famous central canals....    59484   \n",
       "3         Central, quiet, safe, clean and beautiful.    97647   \n",
       "4       Flower market , Leidseplein , Rembrantsplein   124245   \n",
       "\n",
       "                                          host_about  host_response_time  \\\n",
       "0                                                NaN        within a day   \n",
       "1  Upon arriving in Amsterdam, one can imagine as...      within an hour   \n",
       "2                  + (Phone number hidden by Airbnb)      within an hour   \n",
       "3  Marjan works in \"eye\" the dutch filmmuseum, an...      within an hour   \n",
       "4                                                 Hi  within a few hours   \n",
       "\n",
       "  host_response_rate host_acceptance_rate host_is_superhost  \\\n",
       "0                87%                  96%                 f   \n",
       "1               100%                 100%                 t   \n",
       "2               100%                  98%                 f   \n",
       "3               100%                 100%                 t   \n",
       "4               100%                 100%                 t   \n",
       "\n",
       "  host_identity_verified  ... has_availability  number_of_reviews  \\\n",
       "0                      t  ...                t                248   \n",
       "1                      t  ...                t                314   \n",
       "2                      t  ...                t                339   \n",
       "3                      t  ...                t                243   \n",
       "4                      t  ...                t                454   \n",
       "\n",
       "   review_scores_rating review_scores_accuracy review_scores_cleanliness  \\\n",
       "0                  4.85                   4.88                      4.83   \n",
       "1                  4.89                   4.93                      4.99   \n",
       "2                  4.44                   4.69                      4.79   \n",
       "3                  4.94                   4.93                      4.95   \n",
       "4                  4.88                   4.93                      4.89   \n",
       "\n",
       "   review_scores_checkin review_scores_communication  review_scores_location  \\\n",
       "0                   4.93                        4.90                    4.78   \n",
       "1                   4.97                        4.98                    4.69   \n",
       "2                   4.63                        4.62                    4.87   \n",
       "3                   4.95                        4.92                    4.89   \n",
       "4                   4.95                        4.94                    4.97   \n",
       "\n",
       "   review_scores_value instant_bookable  \n",
       "0                 4.72                f  \n",
       "1                 4.81                f  \n",
       "2                 4.49                t  \n",
       "3                 4.79                t  \n",
       "4                 4.83                f  \n",
       "\n",
       "[5 rows x 33 columns]"
      ]
     },
     "execution_count": 4,
     "metadata": {},
     "output_type": "execute_result"
    }
   ],
   "source": [
    "listings_ams.head()"
   ]
  },
  {
   "cell_type": "code",
   "execution_count": 5,
   "id": "8ab7c417",
   "metadata": {
    "scrolled": true
   },
   "outputs": [
    {
     "data": {
      "text/plain": [
       "Index(['name', 'description', 'neighborhood_overview', 'host_id', 'host_about',\n",
       "       'host_response_time', 'host_response_rate', 'host_acceptance_rate',\n",
       "       'host_is_superhost', 'host_identity_verified', 'neighbourhood_cleansed',\n",
       "       'latitude', 'longitude', 'property_type', 'room_type', 'accommodates',\n",
       "       'bathrooms_text', 'bedrooms', 'beds', 'amenities', 'price',\n",
       "       'minimum_nights', 'maximum_nights', 'has_availability',\n",
       "       'number_of_reviews', 'review_scores_rating', 'review_scores_accuracy',\n",
       "       'review_scores_cleanliness', 'review_scores_checkin',\n",
       "       'review_scores_communication', 'review_scores_location',\n",
       "       'review_scores_value', 'instant_bookable'],\n",
       "      dtype='object')"
      ]
     },
     "execution_count": 5,
     "metadata": {},
     "output_type": "execute_result"
    }
   ],
   "source": [
    "listings_ams.columns"
   ]
  },
  {
   "cell_type": "code",
   "execution_count": 6,
   "id": "195f4754",
   "metadata": {},
   "outputs": [
    {
     "data": {
      "text/plain": [
       "name                            object\n",
       "description                     object\n",
       "neighborhood_overview           object\n",
       "host_id                          int64\n",
       "host_about                      object\n",
       "host_response_time              object\n",
       "host_response_rate              object\n",
       "host_acceptance_rate            object\n",
       "host_is_superhost               object\n",
       "host_identity_verified          object\n",
       "neighbourhood_cleansed          object\n",
       "latitude                       float64\n",
       "longitude                      float64\n",
       "property_type                   object\n",
       "room_type                       object\n",
       "accommodates                     int64\n",
       "bathrooms_text                  object\n",
       "bedrooms                       float64\n",
       "beds                           float64\n",
       "amenities                       object\n",
       "price                           object\n",
       "minimum_nights                   int64\n",
       "maximum_nights                   int64\n",
       "has_availability                object\n",
       "number_of_reviews                int64\n",
       "review_scores_rating           float64\n",
       "review_scores_accuracy         float64\n",
       "review_scores_cleanliness      float64\n",
       "review_scores_checkin          float64\n",
       "review_scores_communication    float64\n",
       "review_scores_location         float64\n",
       "review_scores_value            float64\n",
       "instant_bookable                object\n",
       "dtype: object"
      ]
     },
     "execution_count": 6,
     "metadata": {},
     "output_type": "execute_result"
    }
   ],
   "source": [
    "listings_ams.dtypes"
   ]
  },
  {
   "cell_type": "code",
   "execution_count": 7,
   "id": "da217ddd",
   "metadata": {},
   "outputs": [
    {
     "data": {
      "text/plain": [
       "array(['f', 't', nan], dtype=object)"
      ]
     },
     "execution_count": 7,
     "metadata": {},
     "output_type": "execute_result"
    }
   ],
   "source": [
    "listings_ams['host_is_superhost'].unique()"
   ]
  },
  {
   "cell_type": "code",
   "execution_count": 8,
   "id": "17cb1ada",
   "metadata": {},
   "outputs": [
    {
     "data": {
      "text/plain": [
       "name                              0\n",
       "description                       8\n",
       "neighborhood_overview          2381\n",
       "host_id                           0\n",
       "host_about                     2787\n",
       "host_response_time             2054\n",
       "host_response_rate             2054\n",
       "host_acceptance_rate            992\n",
       "host_is_superhost                 4\n",
       "host_identity_verified            0\n",
       "neighbourhood_cleansed            0\n",
       "latitude                          0\n",
       "longitude                         0\n",
       "property_type                     0\n",
       "room_type                         0\n",
       "accommodates                      0\n",
       "bathrooms_text                   13\n",
       "bedrooms                        286\n",
       "beds                             91\n",
       "amenities                         0\n",
       "price                             0\n",
       "minimum_nights                    0\n",
       "maximum_nights                    0\n",
       "has_availability                  0\n",
       "number_of_reviews                 0\n",
       "review_scores_rating            648\n",
       "review_scores_accuracy          652\n",
       "review_scores_cleanliness       652\n",
       "review_scores_checkin           652\n",
       "review_scores_communication     652\n",
       "review_scores_location          652\n",
       "review_scores_value             652\n",
       "instant_bookable                  0\n",
       "dtype: int64"
      ]
     },
     "execution_count": 8,
     "metadata": {},
     "output_type": "execute_result"
    }
   ],
   "source": [
    "listings_ams.isna().sum()"
   ]
  },
  {
   "cell_type": "code",
   "execution_count": 9,
   "id": "5e8d7c70",
   "metadata": {},
   "outputs": [],
   "source": [
    "#Dealing with missing values\n",
    "#deleting host_about column\n",
    "listings_ams=listings_ams.drop(['host_about','neighborhood_overview','host_response_time',\n",
    "                                'host_response_rate', 'review_scores_rating', 'review_scores_accuracy',\n",
    "                                'review_scores_cleanliness', 'review_scores_checkin', 'review_scores_communication',\n",
    "                                'review_scores_location', 'review_scores_value', 'host_acceptance_rate',\n",
    "                                'description'],axis=1)\n"
   ]
  },
  {
   "cell_type": "code",
   "execution_count": 10,
   "id": "e4434b01",
   "metadata": {},
   "outputs": [
    {
     "data": {
      "text/plain": [
       "name                        0\n",
       "host_id                     0\n",
       "host_is_superhost           4\n",
       "host_identity_verified      0\n",
       "neighbourhood_cleansed      0\n",
       "latitude                    0\n",
       "longitude                   0\n",
       "property_type               0\n",
       "room_type                   0\n",
       "accommodates                0\n",
       "bathrooms_text             13\n",
       "bedrooms                  286\n",
       "beds                       91\n",
       "amenities                   0\n",
       "price                       0\n",
       "minimum_nights              0\n",
       "maximum_nights              0\n",
       "has_availability            0\n",
       "number_of_reviews           0\n",
       "instant_bookable            0\n",
       "dtype: int64"
      ]
     },
     "execution_count": 10,
     "metadata": {},
     "output_type": "execute_result"
    }
   ],
   "source": [
    "listings_ams.isna().sum()"
   ]
  },
  {
   "cell_type": "code",
   "execution_count": 11,
   "id": "987133a2",
   "metadata": {},
   "outputs": [],
   "source": [
    "#Number of bedrooms is an important information for analysis. Therefore, I decided to delete the rows.\n",
    "listings_ams=listings_ams[listings_ams['bedrooms'].notna()]\n"
   ]
  },
  {
   "cell_type": "code",
   "execution_count": 12,
   "id": "48e3ceb5",
   "metadata": {},
   "outputs": [
    {
     "data": {
      "text/plain": [
       "name                       0\n",
       "host_id                    0\n",
       "host_is_superhost          0\n",
       "host_identity_verified     0\n",
       "neighbourhood_cleansed     0\n",
       "latitude                   0\n",
       "longitude                  0\n",
       "property_type              0\n",
       "room_type                  0\n",
       "accommodates               0\n",
       "bathrooms_text             6\n",
       "bedrooms                   0\n",
       "beds                      72\n",
       "amenities                  0\n",
       "price                      0\n",
       "minimum_nights             0\n",
       "maximum_nights             0\n",
       "has_availability           0\n",
       "number_of_reviews          0\n",
       "instant_bookable           0\n",
       "dtype: int64"
      ]
     },
     "execution_count": 12,
     "metadata": {},
     "output_type": "execute_result"
    }
   ],
   "source": [
    "listings_ams.isna().sum()"
   ]
  },
  {
   "cell_type": "code",
   "execution_count": 13,
   "id": "34832723",
   "metadata": {},
   "outputs": [],
   "source": [
    "#Number of bathrooms is an important information for analysis. Therefore, I decided to delete the rows.\n",
    "\n",
    "listings_ams=listings_ams[listings_ams['bathrooms_text'].notna()]\n",
    "\n"
   ]
  },
  {
   "cell_type": "code",
   "execution_count": 14,
   "id": "5a2e0120",
   "metadata": {},
   "outputs": [
    {
     "data": {
      "text/plain": [
       "name                       0\n",
       "host_id                    0\n",
       "host_is_superhost          0\n",
       "host_identity_verified     0\n",
       "neighbourhood_cleansed     0\n",
       "latitude                   0\n",
       "longitude                  0\n",
       "property_type              0\n",
       "room_type                  0\n",
       "accommodates               0\n",
       "bathrooms_text             0\n",
       "bedrooms                   0\n",
       "beds                      72\n",
       "amenities                  0\n",
       "price                      0\n",
       "minimum_nights             0\n",
       "maximum_nights             0\n",
       "has_availability           0\n",
       "number_of_reviews          0\n",
       "instant_bookable           0\n",
       "dtype: int64"
      ]
     },
     "execution_count": 14,
     "metadata": {},
     "output_type": "execute_result"
    }
   ],
   "source": [
    "listings_ams.isna().sum()"
   ]
  },
  {
   "cell_type": "code",
   "execution_count": 15,
   "id": "9edfc9e0",
   "metadata": {},
   "outputs": [],
   "source": [
    "#Although the number of beds is important, accommodates indicate the max number of people that the property can host.\n",
    "#Therefore, I decided to delete the column beds\n",
    "listings_ams=listings_ams.drop(['beds'], axis=1)"
   ]
  },
  {
   "cell_type": "code",
   "execution_count": 16,
   "id": "bff44773",
   "metadata": {},
   "outputs": [
    {
     "data": {
      "text/plain": [
       "name                      0\n",
       "host_id                   0\n",
       "host_is_superhost         0\n",
       "host_identity_verified    0\n",
       "neighbourhood_cleansed    0\n",
       "latitude                  0\n",
       "longitude                 0\n",
       "property_type             0\n",
       "room_type                 0\n",
       "accommodates              0\n",
       "bathrooms_text            0\n",
       "bedrooms                  0\n",
       "amenities                 0\n",
       "price                     0\n",
       "minimum_nights            0\n",
       "maximum_nights            0\n",
       "has_availability          0\n",
       "number_of_reviews         0\n",
       "instant_bookable          0\n",
       "dtype: int64"
      ]
     },
     "execution_count": 16,
     "metadata": {},
     "output_type": "execute_result"
    }
   ],
   "source": [
    "listings_ams.isna().sum()"
   ]
  },
  {
   "cell_type": "code",
   "execution_count": 17,
   "id": "b9257744",
   "metadata": {},
   "outputs": [
    {
     "data": {
      "text/html": [
       "<div>\n",
       "<style scoped>\n",
       "    .dataframe tbody tr th:only-of-type {\n",
       "        vertical-align: middle;\n",
       "    }\n",
       "\n",
       "    .dataframe tbody tr th {\n",
       "        vertical-align: top;\n",
       "    }\n",
       "\n",
       "    .dataframe thead th {\n",
       "        text-align: right;\n",
       "    }\n",
       "</style>\n",
       "<table border=\"1\" class=\"dataframe\">\n",
       "  <thead>\n",
       "    <tr style=\"text-align: right;\">\n",
       "      <th></th>\n",
       "      <th>name</th>\n",
       "      <th>host_id</th>\n",
       "      <th>host_is_superhost</th>\n",
       "      <th>host_identity_verified</th>\n",
       "      <th>neighbourhood_cleansed</th>\n",
       "      <th>latitude</th>\n",
       "      <th>longitude</th>\n",
       "      <th>property_type</th>\n",
       "      <th>room_type</th>\n",
       "      <th>accommodates</th>\n",
       "      <th>bathrooms_text</th>\n",
       "      <th>bedrooms</th>\n",
       "      <th>amenities</th>\n",
       "      <th>price</th>\n",
       "      <th>minimum_nights</th>\n",
       "      <th>maximum_nights</th>\n",
       "      <th>has_availability</th>\n",
       "      <th>number_of_reviews</th>\n",
       "      <th>instant_bookable</th>\n",
       "    </tr>\n",
       "  </thead>\n",
       "  <tbody>\n",
       "    <tr>\n",
       "      <th>0</th>\n",
       "      <td>Somewhere Else</td>\n",
       "      <td>2594559</td>\n",
       "      <td>f</td>\n",
       "      <td>t</td>\n",
       "      <td>Westerpark</td>\n",
       "      <td>52.39114</td>\n",
       "      <td>4.88846</td>\n",
       "      <td>Private room in boat</td>\n",
       "      <td>Private room</td>\n",
       "      <td>2</td>\n",
       "      <td>1.5 baths</td>\n",
       "      <td>1.0</td>\n",
       "      <td>[\"Bed linens\", \"Dishes and silverware\", \"Hange...</td>\n",
       "      <td>$100.00</td>\n",
       "      <td>2</td>\n",
       "      <td>30</td>\n",
       "      <td>t</td>\n",
       "      <td>248</td>\n",
       "      <td>f</td>\n",
       "    </tr>\n",
       "    <tr>\n",
       "      <th>1</th>\n",
       "      <td>Quiet Garden View Room &amp; Super Fast Wi-Fi</td>\n",
       "      <td>3159</td>\n",
       "      <td>t</td>\n",
       "      <td>t</td>\n",
       "      <td>Oostelijk Havengebied - Indische Buurt</td>\n",
       "      <td>52.36435</td>\n",
       "      <td>4.94358</td>\n",
       "      <td>Private room in rental unit</td>\n",
       "      <td>Private room</td>\n",
       "      <td>2</td>\n",
       "      <td>1.5 shared baths</td>\n",
       "      <td>1.0</td>\n",
       "      <td>[\"Books and reading material\", \"Smoke alarm\", ...</td>\n",
       "      <td>$59.00</td>\n",
       "      <td>3</td>\n",
       "      <td>28</td>\n",
       "      <td>t</td>\n",
       "      <td>314</td>\n",
       "      <td>f</td>\n",
       "    </tr>\n",
       "    <tr>\n",
       "      <th>2</th>\n",
       "      <td>Studio with private bathroom in the centre 1</td>\n",
       "      <td>59484</td>\n",
       "      <td>f</td>\n",
       "      <td>t</td>\n",
       "      <td>Centrum-Oost</td>\n",
       "      <td>52.36407</td>\n",
       "      <td>4.89393</td>\n",
       "      <td>Private room in townhouse</td>\n",
       "      <td>Private room</td>\n",
       "      <td>2</td>\n",
       "      <td>1 private bath</td>\n",
       "      <td>1.0</td>\n",
       "      <td>[\"Smoke alarm\", \"Bed linens\", \"Hangers\", \"Wifi...</td>\n",
       "      <td>$106.00</td>\n",
       "      <td>1</td>\n",
       "      <td>365</td>\n",
       "      <td>t</td>\n",
       "      <td>339</td>\n",
       "      <td>t</td>\n",
       "    </tr>\n",
       "    <tr>\n",
       "      <th>3</th>\n",
       "      <td>Romantic, stylish B&amp;B houseboat in canal district</td>\n",
       "      <td>97647</td>\n",
       "      <td>t</td>\n",
       "      <td>t</td>\n",
       "      <td>Centrum-West</td>\n",
       "      <td>52.38761</td>\n",
       "      <td>4.89188</td>\n",
       "      <td>Private room in houseboat</td>\n",
       "      <td>Private room</td>\n",
       "      <td>2</td>\n",
       "      <td>1.5 baths</td>\n",
       "      <td>1.0</td>\n",
       "      <td>[\"Books and reading material\", \"Smoke alarm\", ...</td>\n",
       "      <td>$140.00</td>\n",
       "      <td>2</td>\n",
       "      <td>356</td>\n",
       "      <td>t</td>\n",
       "      <td>243</td>\n",
       "      <td>t</td>\n",
       "    </tr>\n",
       "    <tr>\n",
       "      <th>4</th>\n",
       "      <td>Comfortable double room</td>\n",
       "      <td>124245</td>\n",
       "      <td>t</td>\n",
       "      <td>t</td>\n",
       "      <td>Centrum-West</td>\n",
       "      <td>52.36775</td>\n",
       "      <td>4.89092</td>\n",
       "      <td>Private room in rental unit</td>\n",
       "      <td>Private room</td>\n",
       "      <td>2</td>\n",
       "      <td>1 shared bath</td>\n",
       "      <td>1.0</td>\n",
       "      <td>[\"Smoke alarm\", \"Bed linens\", \"Lock on bedroom...</td>\n",
       "      <td>$75.00</td>\n",
       "      <td>2</td>\n",
       "      <td>1825</td>\n",
       "      <td>t</td>\n",
       "      <td>454</td>\n",
       "      <td>f</td>\n",
       "    </tr>\n",
       "  </tbody>\n",
       "</table>\n",
       "</div>"
      ],
      "text/plain": [
       "                                                name  host_id  \\\n",
       "0                                     Somewhere Else  2594559   \n",
       "1          Quiet Garden View Room & Super Fast Wi-Fi     3159   \n",
       "2       Studio with private bathroom in the centre 1    59484   \n",
       "3  Romantic, stylish B&B houseboat in canal district    97647   \n",
       "4                            Comfortable double room   124245   \n",
       "\n",
       "  host_is_superhost host_identity_verified  \\\n",
       "0                 f                      t   \n",
       "1                 t                      t   \n",
       "2                 f                      t   \n",
       "3                 t                      t   \n",
       "4                 t                      t   \n",
       "\n",
       "                   neighbourhood_cleansed  latitude  longitude  \\\n",
       "0                              Westerpark  52.39114    4.88846   \n",
       "1  Oostelijk Havengebied - Indische Buurt  52.36435    4.94358   \n",
       "2                            Centrum-Oost  52.36407    4.89393   \n",
       "3                            Centrum-West  52.38761    4.89188   \n",
       "4                            Centrum-West  52.36775    4.89092   \n",
       "\n",
       "                 property_type     room_type  accommodates    bathrooms_text  \\\n",
       "0         Private room in boat  Private room             2         1.5 baths   \n",
       "1  Private room in rental unit  Private room             2  1.5 shared baths   \n",
       "2    Private room in townhouse  Private room             2    1 private bath   \n",
       "3    Private room in houseboat  Private room             2         1.5 baths   \n",
       "4  Private room in rental unit  Private room             2     1 shared bath   \n",
       "\n",
       "   bedrooms                                          amenities    price  \\\n",
       "0       1.0  [\"Bed linens\", \"Dishes and silverware\", \"Hange...  $100.00   \n",
       "1       1.0  [\"Books and reading material\", \"Smoke alarm\", ...   $59.00   \n",
       "2       1.0  [\"Smoke alarm\", \"Bed linens\", \"Hangers\", \"Wifi...  $106.00   \n",
       "3       1.0  [\"Books and reading material\", \"Smoke alarm\", ...  $140.00   \n",
       "4       1.0  [\"Smoke alarm\", \"Bed linens\", \"Lock on bedroom...   $75.00   \n",
       "\n",
       "   minimum_nights  maximum_nights has_availability  number_of_reviews  \\\n",
       "0               2              30                t                248   \n",
       "1               3              28                t                314   \n",
       "2               1             365                t                339   \n",
       "3               2             356                t                243   \n",
       "4               2            1825                t                454   \n",
       "\n",
       "  instant_bookable  \n",
       "0                f  \n",
       "1                f  \n",
       "2                t  \n",
       "3                t  \n",
       "4                f  "
      ]
     },
     "execution_count": 17,
     "metadata": {},
     "output_type": "execute_result"
    }
   ],
   "source": [
    "listings_ams.head()"
   ]
  },
  {
   "cell_type": "code",
   "execution_count": 24,
   "id": "ab66c53b",
   "metadata": {},
   "outputs": [],
   "source": [
    "#Clean: remove '$' from price\n",
    "def remove_symbol(x):\n",
    "    x=x.replace('$','')\n",
    "    return x\n",
    "\n",
    "\n",
    "def remove_symbol_2(x):\n",
    "    x=x.replace(',','')\n",
    "    return x\n",
    "\n",
    "\n",
    "listings_ams['price']=listings_ams['price'].apply(remove_symbol)\n",
    "listings_ams['price']=listings_ams['price'].apply(remove_symbol_2)"
   ]
  },
  {
   "cell_type": "code",
   "execution_count": 25,
   "id": "fcad478c",
   "metadata": {},
   "outputs": [
    {
     "data": {
      "text/plain": [
       "array(['1.5 baths', '1.5 shared baths', '1 private bath', '1 shared bath',\n",
       "       '1 bath', '2.5 baths', '3.5 baths', '0 baths', 'Private half-bath',\n",
       "       '2 baths', '3 baths', '0 shared baths', 'Half-bath', '5 baths',\n",
       "       'Shared half-bath', '2 shared baths', '5.5 baths', '4 baths',\n",
       "       '4.5 baths', '4 shared baths', '17 baths', '3 shared baths'],\n",
       "      dtype=object)"
      ]
     },
     "execution_count": 25,
     "metadata": {},
     "output_type": "execute_result"
    }
   ],
   "source": [
    "listings_ams['bathrooms_text'].unique()"
   ]
  },
  {
   "cell_type": "code",
   "execution_count": 26,
   "id": "67cc7a5c",
   "metadata": {},
   "outputs": [
    {
     "name": "stdout",
     "output_type": "stream",
     "text": [
      "<class 'pandas.core.frame.DataFrame'>\n",
      "Int64Index: 6517 entries, 0 to 6808\n",
      "Data columns (total 19 columns):\n",
      " #   Column                  Non-Null Count  Dtype  \n",
      "---  ------                  --------------  -----  \n",
      " 0   name                    6517 non-null   object \n",
      " 1   host_id                 6517 non-null   int64  \n",
      " 2   host_is_superhost       6517 non-null   object \n",
      " 3   host_identity_verified  6517 non-null   object \n",
      " 4   neighbourhood_cleansed  6517 non-null   object \n",
      " 5   latitude                6517 non-null   float64\n",
      " 6   longitude               6517 non-null   float64\n",
      " 7   property_type           6517 non-null   object \n",
      " 8   room_type               6517 non-null   object \n",
      " 9   accommodates            6517 non-null   int64  \n",
      " 10  bathrooms_text          6517 non-null   object \n",
      " 11  bedrooms                6517 non-null   float64\n",
      " 12  amenities               6517 non-null   object \n",
      " 13  price                   6517 non-null   object \n",
      " 14  minimum_nights          6517 non-null   int64  \n",
      " 15  maximum_nights          6517 non-null   int64  \n",
      " 16  has_availability        6517 non-null   object \n",
      " 17  number_of_reviews       6517 non-null   int64  \n",
      " 18  instant_bookable        6517 non-null   object \n",
      "dtypes: float64(3), int64(5), object(11)\n",
      "memory usage: 1018.3+ KB\n"
     ]
    }
   ],
   "source": [
    "listings_ams.info()"
   ]
  },
  {
   "cell_type": "code",
   "execution_count": 27,
   "id": "f6f793ab",
   "metadata": {},
   "outputs": [
    {
     "data": {
      "text/plain": [
       "0       1\n",
       "1       1\n",
       "2       1\n",
       "3       1\n",
       "4       1\n",
       "       ..\n",
       "6804    1\n",
       "6805    2\n",
       "6806    2\n",
       "6807    1\n",
       "6808    2\n",
       "Name: bedrooms, Length: 6517, dtype: int64"
      ]
     },
     "execution_count": 27,
     "metadata": {},
     "output_type": "execute_result"
    }
   ],
   "source": [
    "#Transform data type\n",
    "\n",
    "#'bedrooms' - int\n",
    "listings_ams['bedrooms'].astype(int)"
   ]
  },
  {
   "cell_type": "code",
   "execution_count": 30,
   "id": "78ee9f99",
   "metadata": {},
   "outputs": [],
   "source": [
    "#'price' - int\n",
    "\n",
    "listings_ams['price']=listings_ams['price'].astype(int)"
   ]
  },
  {
   "cell_type": "code",
   "execution_count": 31,
   "id": "9722b00d",
   "metadata": {},
   "outputs": [
    {
     "name": "stdout",
     "output_type": "stream",
     "text": [
      "<class 'pandas.core.frame.DataFrame'>\n",
      "Int64Index: 6517 entries, 0 to 6808\n",
      "Data columns (total 19 columns):\n",
      " #   Column                  Non-Null Count  Dtype  \n",
      "---  ------                  --------------  -----  \n",
      " 0   name                    6517 non-null   object \n",
      " 1   host_id                 6517 non-null   int64  \n",
      " 2   host_is_superhost       6517 non-null   object \n",
      " 3   host_identity_verified  6517 non-null   object \n",
      " 4   neighbourhood_cleansed  6517 non-null   object \n",
      " 5   latitude                6517 non-null   float64\n",
      " 6   longitude               6517 non-null   float64\n",
      " 7   property_type           6517 non-null   object \n",
      " 8   room_type               6517 non-null   object \n",
      " 9   accommodates            6517 non-null   int64  \n",
      " 10  bathrooms_text          6517 non-null   object \n",
      " 11  bedrooms                6517 non-null   float64\n",
      " 12  amenities               6517 non-null   object \n",
      " 13  price                   6517 non-null   int64  \n",
      " 14  minimum_nights          6517 non-null   int64  \n",
      " 15  maximum_nights          6517 non-null   int64  \n",
      " 16  has_availability        6517 non-null   object \n",
      " 17  number_of_reviews       6517 non-null   int64  \n",
      " 18  instant_bookable        6517 non-null   object \n",
      "dtypes: float64(3), int64(6), object(10)\n",
      "memory usage: 1018.3+ KB\n"
     ]
    }
   ],
   "source": [
    "listings_ams.info()"
   ]
  },
  {
   "cell_type": "code",
   "execution_count": 33,
   "id": "08b1936b",
   "metadata": {},
   "outputs": [
    {
     "data": {
      "text/plain": [
       "'[\"Books and reading material\", \"Smoke alarm\", \"Fire extinguisher\", \"Dedicated workspace\", \"Paid parking off premises\", \"Room-darkening shades\", \"Paid washer \\\\u2013 In unit\", \"Bed linens\", \"Private entrance\", \"Outdoor furniture\", \"Fast wifi \\\\u2013 52 Mbps\", \"Security cameras on property\", \"Mini fridge\", \"Essentials\", \"Ethernet connection\", \"Sony + Wireless Bluetooth Speaker(phone) Bluetooth sound system\", \"Central heating\", \"Cleaning products\", \"First aid kit\", \"Carbon monoxide alarm\", \"Paid parking on premises\", \"Extra pillows and blankets\", \"PH neutral and dermatologically tested shampoo\", \"Hot water kettle\", \"Clothing storage: wardrobe\", \"Single level home\", \"Portable fans\", \"Garden view\", \"Hair dryer\", \"Hot water\", \"Lock on bedroom door\", \"Host greets you\", \"Hangers\", \"Laundromat nearby\", \"Long term stays allowed\", \"Coffee\", \"Iron\", \"PH neutral and dermatologically tested body soap\", \"Drying rack for clothing\", \"Exercise equipment: yoga mat\", \"Shared backyard \\\\u2013 Fully fenced\", \"Shower gel\", \"Refrigerator\", \"Mosquito net\"]'"
      ]
     },
     "execution_count": 33,
     "metadata": {},
     "output_type": "execute_result"
    }
   ],
   "source": [
    "listings_ams['amenities'][1]"
   ]
  },
  {
   "cell_type": "code",
   "execution_count": 38,
   "id": "19dc1258",
   "metadata": {},
   "outputs": [
    {
     "data": {
      "text/plain": [
       "'[\"Smoke alarm\", \"Bed linens\", \"Hangers\", \"Wifi\", \"Fire extinguisher\", \"Long term stays allowed\", \"Essentials\", \"TV\", \"Hair dryer\", \"Hot water\", \"Paid parking off premises\", \"Host greets you\", \"Free street parking\", \"Refrigerator\", \"Carbon monoxide alarm\", \"Heating\"]'"
      ]
     },
     "execution_count": 38,
     "metadata": {},
     "output_type": "execute_result"
    }
   ],
   "source": [
    "listings_ams['amenities'][2]"
   ]
  },
  {
   "cell_type": "code",
   "execution_count": 37,
   "id": "15837842",
   "metadata": {},
   "outputs": [
    {
     "data": {
      "text/plain": [
       "'[\"Books and reading material\", \"Smoke alarm\", \"Smart lock\", \"Fire extinguisher\", \"Dedicated workspace\", \"Waterfront\", \"Luggage dropoff allowed\", \"Bikes\", \"Self check-in\", \"Boat slip\", \"City skyline view\", \"Private patio or balcony\", \"Bed linens\", \"Paid street parking off premises\", \"Hp neutral, eco friendly body soap\", \"Private entrance\", \"Outdoor furniture\", \"Breakfast\", \"Kayak\", \"Private living room\", \"Mini fridge\", \"Essentials\", \"Public or shared beach access\", \"Central heating\", \"Lake access\", \"Outdoor dining area\", \"Coffee maker: Nespresso\", \"Carbon monoxide alarm\", \"Extra pillows and blankets\", \"Harbor view\", \"Portable fans\", \"Shampoo\", \"Garden view\", \"Fast wifi \\\\u2013 245 Mbps\", \"Private backyard \\\\u2013 Not fully fenced\", \"Hair dryer\", \"Hot water\", \"Lock on bedroom door\", \"Dishes and silverware\", \"Safe\", \"Wine glasses\", \"Hangers\", \"Canal view\", \"Dining table\", \"Laundromat nearby\", \"Long term stays allowed\", \"Coffee\", \"Clothing storage: closet\", \"TV with standard cable\", \"Shower gel\", \"Refrigerator\"]'"
      ]
     },
     "execution_count": 37,
     "metadata": {},
     "output_type": "execute_result"
    }
   ],
   "source": [
    "listings_ams['amenities'][3]"
   ]
  },
  {
   "cell_type": "code",
   "execution_count": 39,
   "id": "3d01ef6e",
   "metadata": {
    "scrolled": true
   },
   "outputs": [
    {
     "data": {
      "text/plain": [
       "(6517, 19)"
      ]
     },
     "execution_count": 39,
     "metadata": {},
     "output_type": "execute_result"
    }
   ],
   "source": [
    "listings_ams.shape"
   ]
  },
  {
   "cell_type": "code",
   "execution_count": 72,
   "id": "99b982b5",
   "metadata": {
    "scrolled": false
   },
   "outputs": [
    {
     "data": {
      "text/plain": [
       "['Coffee maker',\n",
       " 'Dishwasher',\n",
       " 'Fire extinguisher',\n",
       " 'Washer',\n",
       " 'Carbon monoxide alarm',\n",
       " 'Shampoo',\n",
       " 'Cooking basics',\n",
       " 'Bed linens',\n",
       " 'Heating',\n",
       " 'Iron',\n",
       " 'Refrigerator',\n",
       " 'Long term stays allowed',\n",
       " 'Hangers',\n",
       " 'Hair dryer',\n",
       " 'Dishes and silverware',\n",
       " 'Hot water',\n",
       " 'Kitchen',\n",
       " 'Wifi',\n",
       " 'Essentials',\n",
       " 'Smoke alarm']"
      ]
     },
     "execution_count": 72,
     "metadata": {},
     "output_type": "execute_result"
    }
   ],
   "source": [
    "unique_amenities = {}\n",
    "\n",
    "for entry in listings_ams[\"amenities\"]:    \n",
    "    s = entry[1:-1]\n",
    "    l = [x.replace(\"\\\"\", \"\").strip() for x in s.split(\",\")]\n",
    "    \n",
    "    for amenity in l:\n",
    "        if amenity not in unique_amenities:\n",
    "            unique_amenities[amenity] = 1\n",
    "        else:\n",
    "            unique_amenities[amenity] += 1\n",
    "\n",
    "top20_amenities = sorted(unique_amenities.items(), key=lambda x: x[1])[-20:]\n",
    "top20_amenities = [x[0] for x in top20_amenities]\n",
    "top20_amenities"
   ]
  },
  {
   "cell_type": "code",
   "execution_count": null,
   "id": "4fc6cbe2",
   "metadata": {},
   "outputs": [],
   "source": []
  },
  {
   "cell_type": "code",
   "execution_count": null,
   "id": "755cb533",
   "metadata": {},
   "outputs": [],
   "source": []
  }
 ],
 "metadata": {
  "kernelspec": {
   "display_name": "Python 3 (ipykernel)",
   "language": "python",
   "name": "python3"
  },
  "language_info": {
   "codemirror_mode": {
    "name": "ipython",
    "version": 3
   },
   "file_extension": ".py",
   "mimetype": "text/x-python",
   "name": "python",
   "nbconvert_exporter": "python",
   "pygments_lexer": "ipython3",
   "version": "3.9.16"
  }
 },
 "nbformat": 4,
 "nbformat_minor": 5
}
