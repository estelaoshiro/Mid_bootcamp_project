{
 "cells": [
  {
   "cell_type": "code",
   "execution_count": null,
   "id": "77f1b08d",
   "metadata": {},
   "outputs": [],
   "source": [
    "from sklearn.preprocessing import StandardScaler\n",
    "import pandas as pd\n"
   ]
  },
  {
   "cell_type": "code",
   "execution_count": null,
   "id": "3ea15033",
   "metadata": {},
   "outputs": [],
   "source": [
    "transformer = StandardScaler() \n",
    "transformer.fit(X_n) \n",
    "\n",
    "X_n_np = transformer.transform(X_n)\n",
    "X_n_scaled = pd.DataFrame(X_n_np, columns=X_n.columns, index=X_n.index)\n",
    "\n",
    "X_n_scaled.head()"
   ]
  }
 ],
 "metadata": {
  "kernelspec": {
   "display_name": "Python 3 (ipykernel)",
   "language": "python",
   "name": "python3"
  },
  "language_info": {
   "codemirror_mode": {
    "name": "ipython",
    "version": 3
   },
   "file_extension": ".py",
   "mimetype": "text/x-python",
   "name": "python",
   "nbconvert_exporter": "python",
   "pygments_lexer": "ipython3",
   "version": "3.9.16"
  }
 },
 "nbformat": 4,
 "nbformat_minor": 5
}
