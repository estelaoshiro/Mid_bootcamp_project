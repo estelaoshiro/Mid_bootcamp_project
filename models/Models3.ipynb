{
 "cells": [
  {
   "cell_type": "markdown",
   "id": "ae194b4e",
   "metadata": {},
   "source": [
    "#CONSIDERATIONS:\n",
    "The group room_type has a problem of class imbalance. \n",
    "In order to improve the model, one way is to consider only the room_type important for the problem\n",
    "(entire property and private rooms).\n",
    "Linear Model"
   ]
  },
  {
   "cell_type": "code",
   "execution_count": 1,
   "id": "b70f84ae",
   "metadata": {},
   "outputs": [],
   "source": [
    "import pandas as pd\n",
    "import numpy as np\n",
    "import matplotlib.pyplot as plt\n",
    "%matplotlib inline\n",
    "import seaborn as sns\n",
    "from sklearn.model_selection import train_test_split\n",
    "from sklearn.preprocessing import OneHotEncoder\n",
    "from sklearn.linear_model import LinearRegression\n",
    "from sklearn.metrics import mean_squared_error\n",
    "from sklearn.metrics import mean_absolute_error \n",
    "\n"
   ]
  },
  {
   "cell_type": "code",
   "execution_count": 2,
   "id": "86ec9b74",
   "metadata": {},
   "outputs": [],
   "source": [
    "listings_ams_all=pd.read_csv('../data/cleaned/listings_ams_all.csv', index_col=0)"
   ]
  },
  {
   "cell_type": "code",
   "execution_count": 3,
   "id": "fc821885",
   "metadata": {},
   "outputs": [],
   "source": [
    "categorical = pd.read_csv('../data/cleaned/categorical.csv', index_col=0)"
   ]
  },
  {
   "cell_type": "code",
   "execution_count": 4,
   "id": "71929376",
   "metadata": {},
   "outputs": [
    {
     "data": {
      "text/plain": [
       "(4774, 18)"
      ]
     },
     "execution_count": 4,
     "metadata": {},
     "output_type": "execute_result"
    }
   ],
   "source": [
    "categorical = categorical[categorical['room_type']==('Entire home/apt' or 'Private room')]\n",
    "categorical.shape"
   ]
  },
  {
   "cell_type": "code",
   "execution_count": 7,
   "id": "de6bdeb7",
   "metadata": {},
   "outputs": [
    {
     "data": {
      "text/plain": [
       "(4774, 39)"
      ]
     },
     "execution_count": 7,
     "metadata": {},
     "output_type": "execute_result"
    }
   ],
   "source": [
    "listings_ams_all= listings_ams_all[listings_ams_all['room_type']==('Entire home/apt' or 'Private room')]\n",
    "listings_ams_all.shape"
   ]
  },
  {
   "cell_type": "code",
   "execution_count": 8,
   "id": "4fb092e6",
   "metadata": {},
   "outputs": [],
   "source": [
    "#X-y split\n",
    "X = categorical\n",
    "y = listings_ams_all['price']"
   ]
  },
  {
   "cell_type": "code",
   "execution_count": 9,
   "id": "055313f3",
   "metadata": {},
   "outputs": [],
   "source": [
    "#train-test-split\n",
    "X_train, X_test, y_train, y_test = train_test_split(X, y, test_size=0.2, random_state=11)"
   ]
  },
  {
   "cell_type": "code",
   "execution_count": 10,
   "id": "30652b28",
   "metadata": {},
   "outputs": [
    {
     "data": {
      "text/html": [
       "<div>\n",
       "<style scoped>\n",
       "    .dataframe tbody tr th:only-of-type {\n",
       "        vertical-align: middle;\n",
       "    }\n",
       "\n",
       "    .dataframe tbody tr th {\n",
       "        vertical-align: top;\n",
       "    }\n",
       "\n",
       "    .dataframe thead th {\n",
       "        text-align: right;\n",
       "    }\n",
       "</style>\n",
       "<table border=\"1\" class=\"dataframe\">\n",
       "  <thead>\n",
       "    <tr style=\"text-align: right;\">\n",
       "      <th></th>\n",
       "      <th>host_is_superhost_1</th>\n",
       "      <th>host_identity_verified_1</th>\n",
       "      <th>neighbourhood_cleansed_Centrum-Oost</th>\n",
       "      <th>neighbourhood_cleansed_Centrum-West</th>\n",
       "      <th>neighbourhood_cleansed_De Baarsjes - Oud-West</th>\n",
       "      <th>neighbourhood_cleansed_De Pijp - Rivierenbuurt</th>\n",
       "      <th>neighbourhood_cleansed_IJburg - Zeeburgereiland</th>\n",
       "      <th>neighbourhood_cleansed_Noord-Oost</th>\n",
       "      <th>neighbourhood_cleansed_Noord-West</th>\n",
       "      <th>neighbourhood_cleansed_Oostelijk Havengebied - Indische Buurt</th>\n",
       "      <th>...</th>\n",
       "      <th>tv_1</th>\n",
       "      <th>iron_1</th>\n",
       "      <th>private_patio_or_balcony_1</th>\n",
       "      <th>freezer_1</th>\n",
       "      <th>dryer_1</th>\n",
       "      <th>private_entrance_1</th>\n",
       "      <th>microwave_1</th>\n",
       "      <th>self_check_in_1</th>\n",
       "      <th>pets_allowed_1</th>\n",
       "      <th>bbq_grill_1</th>\n",
       "    </tr>\n",
       "  </thead>\n",
       "  <tbody>\n",
       "    <tr>\n",
       "      <th>0</th>\n",
       "      <td>1.0</td>\n",
       "      <td>1.0</td>\n",
       "      <td>1.0</td>\n",
       "      <td>0.0</td>\n",
       "      <td>0.0</td>\n",
       "      <td>0.0</td>\n",
       "      <td>0.0</td>\n",
       "      <td>0.0</td>\n",
       "      <td>0.0</td>\n",
       "      <td>0.0</td>\n",
       "      <td>...</td>\n",
       "      <td>1.0</td>\n",
       "      <td>1.0</td>\n",
       "      <td>0.0</td>\n",
       "      <td>1.0</td>\n",
       "      <td>0.0</td>\n",
       "      <td>0.0</td>\n",
       "      <td>1.0</td>\n",
       "      <td>1.0</td>\n",
       "      <td>0.0</td>\n",
       "      <td>0.0</td>\n",
       "    </tr>\n",
       "    <tr>\n",
       "      <th>1</th>\n",
       "      <td>0.0</td>\n",
       "      <td>1.0</td>\n",
       "      <td>0.0</td>\n",
       "      <td>0.0</td>\n",
       "      <td>1.0</td>\n",
       "      <td>0.0</td>\n",
       "      <td>0.0</td>\n",
       "      <td>0.0</td>\n",
       "      <td>0.0</td>\n",
       "      <td>0.0</td>\n",
       "      <td>...</td>\n",
       "      <td>1.0</td>\n",
       "      <td>1.0</td>\n",
       "      <td>0.0</td>\n",
       "      <td>0.0</td>\n",
       "      <td>0.0</td>\n",
       "      <td>0.0</td>\n",
       "      <td>0.0</td>\n",
       "      <td>0.0</td>\n",
       "      <td>0.0</td>\n",
       "      <td>0.0</td>\n",
       "    </tr>\n",
       "    <tr>\n",
       "      <th>2</th>\n",
       "      <td>0.0</td>\n",
       "      <td>1.0</td>\n",
       "      <td>0.0</td>\n",
       "      <td>0.0</td>\n",
       "      <td>0.0</td>\n",
       "      <td>1.0</td>\n",
       "      <td>0.0</td>\n",
       "      <td>0.0</td>\n",
       "      <td>0.0</td>\n",
       "      <td>0.0</td>\n",
       "      <td>...</td>\n",
       "      <td>1.0</td>\n",
       "      <td>0.0</td>\n",
       "      <td>0.0</td>\n",
       "      <td>1.0</td>\n",
       "      <td>0.0</td>\n",
       "      <td>0.0</td>\n",
       "      <td>0.0</td>\n",
       "      <td>0.0</td>\n",
       "      <td>0.0</td>\n",
       "      <td>0.0</td>\n",
       "    </tr>\n",
       "    <tr>\n",
       "      <th>3</th>\n",
       "      <td>0.0</td>\n",
       "      <td>0.0</td>\n",
       "      <td>0.0</td>\n",
       "      <td>0.0</td>\n",
       "      <td>0.0</td>\n",
       "      <td>0.0</td>\n",
       "      <td>0.0</td>\n",
       "      <td>0.0</td>\n",
       "      <td>0.0</td>\n",
       "      <td>0.0</td>\n",
       "      <td>...</td>\n",
       "      <td>1.0</td>\n",
       "      <td>1.0</td>\n",
       "      <td>1.0</td>\n",
       "      <td>1.0</td>\n",
       "      <td>0.0</td>\n",
       "      <td>1.0</td>\n",
       "      <td>1.0</td>\n",
       "      <td>0.0</td>\n",
       "      <td>0.0</td>\n",
       "      <td>1.0</td>\n",
       "    </tr>\n",
       "    <tr>\n",
       "      <th>4</th>\n",
       "      <td>0.0</td>\n",
       "      <td>1.0</td>\n",
       "      <td>0.0</td>\n",
       "      <td>0.0</td>\n",
       "      <td>0.0</td>\n",
       "      <td>0.0</td>\n",
       "      <td>0.0</td>\n",
       "      <td>0.0</td>\n",
       "      <td>0.0</td>\n",
       "      <td>0.0</td>\n",
       "      <td>...</td>\n",
       "      <td>1.0</td>\n",
       "      <td>1.0</td>\n",
       "      <td>0.0</td>\n",
       "      <td>0.0</td>\n",
       "      <td>0.0</td>\n",
       "      <td>0.0</td>\n",
       "      <td>0.0</td>\n",
       "      <td>1.0</td>\n",
       "      <td>0.0</td>\n",
       "      <td>1.0</td>\n",
       "    </tr>\n",
       "  </tbody>\n",
       "</table>\n",
       "<p>5 rows × 31 columns</p>\n",
       "</div>"
      ],
      "text/plain": [
       "   host_is_superhost_1  host_identity_verified_1  \\\n",
       "0                  1.0                       1.0   \n",
       "1                  0.0                       1.0   \n",
       "2                  0.0                       1.0   \n",
       "3                  0.0                       0.0   \n",
       "4                  0.0                       1.0   \n",
       "\n",
       "   neighbourhood_cleansed_Centrum-Oost  neighbourhood_cleansed_Centrum-West  \\\n",
       "0                                  1.0                                  0.0   \n",
       "1                                  0.0                                  0.0   \n",
       "2                                  0.0                                  0.0   \n",
       "3                                  0.0                                  0.0   \n",
       "4                                  0.0                                  0.0   \n",
       "\n",
       "   neighbourhood_cleansed_De Baarsjes - Oud-West  \\\n",
       "0                                            0.0   \n",
       "1                                            1.0   \n",
       "2                                            0.0   \n",
       "3                                            0.0   \n",
       "4                                            0.0   \n",
       "\n",
       "   neighbourhood_cleansed_De Pijp - Rivierenbuurt  \\\n",
       "0                                             0.0   \n",
       "1                                             0.0   \n",
       "2                                             1.0   \n",
       "3                                             0.0   \n",
       "4                                             0.0   \n",
       "\n",
       "   neighbourhood_cleansed_IJburg - Zeeburgereiland  \\\n",
       "0                                              0.0   \n",
       "1                                              0.0   \n",
       "2                                              0.0   \n",
       "3                                              0.0   \n",
       "4                                              0.0   \n",
       "\n",
       "   neighbourhood_cleansed_Noord-Oost  neighbourhood_cleansed_Noord-West  \\\n",
       "0                                0.0                                0.0   \n",
       "1                                0.0                                0.0   \n",
       "2                                0.0                                0.0   \n",
       "3                                0.0                                0.0   \n",
       "4                                0.0                                0.0   \n",
       "\n",
       "   neighbourhood_cleansed_Oostelijk Havengebied - Indische Buurt  ...  tv_1  \\\n",
       "0                                                0.0              ...   1.0   \n",
       "1                                                0.0              ...   1.0   \n",
       "2                                                0.0              ...   1.0   \n",
       "3                                                0.0              ...   1.0   \n",
       "4                                                0.0              ...   1.0   \n",
       "\n",
       "   iron_1  private_patio_or_balcony_1  freezer_1  dryer_1  private_entrance_1  \\\n",
       "0     1.0                         0.0        1.0      0.0                 0.0   \n",
       "1     1.0                         0.0        0.0      0.0                 0.0   \n",
       "2     0.0                         0.0        1.0      0.0                 0.0   \n",
       "3     1.0                         1.0        1.0      0.0                 1.0   \n",
       "4     1.0                         0.0        0.0      0.0                 0.0   \n",
       "\n",
       "   microwave_1  self_check_in_1  pets_allowed_1  bbq_grill_1  \n",
       "0          1.0              1.0             0.0          0.0  \n",
       "1          0.0              0.0             0.0          0.0  \n",
       "2          0.0              0.0             0.0          0.0  \n",
       "3          1.0              0.0             0.0          1.0  \n",
       "4          0.0              1.0             0.0          1.0  \n",
       "\n",
       "[5 rows x 31 columns]"
      ]
     },
     "execution_count": 10,
     "metadata": {},
     "output_type": "execute_result"
    }
   ],
   "source": [
    "encoder = OneHotEncoder(drop='first')\n",
    "encoder.fit(X_train)\n",
    "\n",
    "X_train_cat_np = encoder.transform(X_train).toarray()\n",
    "X_test_cat_np  = encoder.transform(X_test).toarray()\n",
    "\n",
    "X_train_cat = pd.DataFrame(X_train_cat_np, columns=encoder.get_feature_names_out())\n",
    "X_test_cat  = pd.DataFrame(X_test_cat_np,  columns=encoder.get_feature_names_out())\n",
    "\n",
    "X_train_cat.head()"
   ]
  },
  {
   "cell_type": "code",
   "execution_count": 11,
   "id": "a8d83ad3",
   "metadata": {},
   "outputs": [],
   "source": [
    "#MODEL 1 - LINEAR REGRESSION\n",
    "lr=LinearRegression()    \n",
    "lr.fit(X_train_cat, y_train)  \n",
    "y_pred_lr=lr.predict(X_test_cat)"
   ]
  },
  {
   "cell_type": "code",
   "execution_count": null,
   "id": "0ed50356",
   "metadata": {},
   "outputs": [],
   "source": []
  },
  {
   "cell_type": "code",
   "execution_count": 12,
   "id": "b9a3ff5a",
   "metadata": {},
   "outputs": [
    {
     "name": "stdout",
     "output_type": "stream",
     "text": [
      "train R2: 0.08272129905508407 vs test R2: 0.04584658088224158\n"
     ]
    }
   ],
   "source": [
    "#EVALUATION\n",
    "#R2\n",
    "print ('train R2: {} vs test R2: {}'.format(lr.score(X_train_cat, y_train),\n",
    "                                            lr.score(X_test_cat, y_test)))"
   ]
  },
  {
   "cell_type": "code",
   "execution_count": 13,
   "id": "8e4f4ada",
   "metadata": {},
   "outputs": [
    {
     "name": "stdout",
     "output_type": "stream",
     "text": [
      "train MSE: 38159.23791626745 vs test MSE: 22384.504720871893\n"
     ]
    }
   ],
   "source": [
    "#MSE\n",
    "mse=mean_squared_error\n",
    "train_mse=mse(lr.predict(X_train_cat), y_train)\n",
    "test_mse=mse(lr.predict(X_test_cat), y_test)\n",
    "\n",
    "print ('train MSE: {} vs test MSE: {}'.format(train_mse, test_mse))"
   ]
  },
  {
   "cell_type": "code",
   "execution_count": 14,
   "id": "2a444578",
   "metadata": {},
   "outputs": [
    {
     "name": "stdout",
     "output_type": "stream",
     "text": [
      "train RMSE: 195.34389654214294 vs test RMSE: 149.6145204212208\n"
     ]
    }
   ],
   "source": [
    "#RMSE\n",
    "print ('train RMSE: {} vs test RMSE: {}'.format(train_mse**.5, test_mse**.5))"
   ]
  },
  {
   "cell_type": "code",
   "execution_count": 15,
   "id": "02f35b1a",
   "metadata": {},
   "outputs": [
    {
     "name": "stdout",
     "output_type": "stream",
     "text": [
      "train MAE: 95.7663355763148 vs test MAE: 98.73490732587034\n"
     ]
    }
   ],
   "source": [
    "#MAE\n",
    "mae=mean_absolute_error\n",
    "train_mae=mae(lr.predict(X_train_cat), y_train)\n",
    "test_mae=mae(lr.predict(X_test_cat), y_test)\n",
    "\n",
    "print ('train MAE: {} vs test MAE: {}'.format(train_mae, test_mae))"
   ]
  },
  {
   "cell_type": "code",
   "execution_count": null,
   "id": "0cc59fa4",
   "metadata": {},
   "outputs": [],
   "source": [
    "\n"
   ]
  },
  {
   "cell_type": "code",
   "execution_count": null,
   "id": "9c134b97",
   "metadata": {},
   "outputs": [],
   "source": []
  }
 ],
 "metadata": {
  "kernelspec": {
   "display_name": "Python 3 (ipykernel)",
   "language": "python",
   "name": "python3"
  },
  "language_info": {
   "codemirror_mode": {
    "name": "ipython",
    "version": 3
   },
   "file_extension": ".py",
   "mimetype": "text/x-python",
   "name": "python",
   "nbconvert_exporter": "python",
   "pygments_lexer": "ipython3",
   "version": "3.9.12"
  }
 },
 "nbformat": 4,
 "nbformat_minor": 5
}
