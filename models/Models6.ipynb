{
 "cells": [
  {
   "cell_type": "markdown",
   "id": "ae194b4e",
   "metadata": {},
   "source": [
    "#CONSIDERATIONS:\n",
    "In order to improve the model, one way is to consider only the room_type important for the problem\n",
    "(entire property).\n",
    "Considering also 2 numerical variables: bedrooms and accommodates\n",
    "\n",
    "KNN \n",
    "Transformer"
   ]
  },
  {
   "cell_type": "code",
   "execution_count": 1,
   "id": "b70f84ae",
   "metadata": {},
   "outputs": [],
   "source": [
    "import pandas as pd\n",
    "import numpy as np\n",
    "import matplotlib.pyplot as plt\n",
    "%matplotlib inline\n",
    "import seaborn as sns\n",
    "from sklearn.model_selection import train_test_split\n",
    "from sklearn.preprocessing import OneHotEncoder\n",
    "from sklearn.linear_model import LinearRegression\n",
    "from sklearn.metrics import mean_squared_error\n",
    "from sklearn.metrics import mean_absolute_error \n",
    "from sklearn.preprocessing import StandardScaler\n",
    "from sklearn.neighbors import KNeighborsRegressor\n",
    "from sklearn.metrics import r2_score\n"
   ]
  },
  {
   "cell_type": "code",
   "execution_count": 2,
   "id": "86ec9b74",
   "metadata": {},
   "outputs": [],
   "source": [
    "listings_ams_all=pd.read_csv('../data/cleaned/listings_ams_all.csv', index_col=0)"
   ]
  },
  {
   "cell_type": "code",
   "execution_count": 3,
   "id": "fc821885",
   "metadata": {},
   "outputs": [],
   "source": [
    "categorical = pd.read_csv('../data/cleaned/categorical.csv', index_col=0)"
   ]
  },
  {
   "cell_type": "code",
   "execution_count": 4,
   "id": "71929376",
   "metadata": {},
   "outputs": [
    {
     "data": {
      "text/plain": [
       "(4774, 18)"
      ]
     },
     "execution_count": 4,
     "metadata": {},
     "output_type": "execute_result"
    }
   ],
   "source": [
    "categorical = categorical[categorical['room_type']==('Entire home/apt')]\n",
    "categorical.shape"
   ]
  },
  {
   "cell_type": "code",
   "execution_count": 5,
   "id": "de6bdeb7",
   "metadata": {},
   "outputs": [
    {
     "data": {
      "text/plain": [
       "(4774, 39)"
      ]
     },
     "execution_count": 5,
     "metadata": {},
     "output_type": "execute_result"
    }
   ],
   "source": [
    "listings_ams_all= listings_ams_all[listings_ams_all['room_type']==('Entire home/apt')]\n",
    "listings_ams_all.shape"
   ]
  },
  {
   "cell_type": "code",
   "execution_count": 6,
   "id": "6b639d66",
   "metadata": {},
   "outputs": [
    {
     "data": {
      "text/plain": [
       "(4774, 39)"
      ]
     },
     "execution_count": 6,
     "metadata": {},
     "output_type": "execute_result"
    }
   ],
   "source": [
    "listings_ams_all.shape"
   ]
  },
  {
   "cell_type": "code",
   "execution_count": 7,
   "id": "51e4f085",
   "metadata": {},
   "outputs": [],
   "source": [
    "num = listings_ams_all.loc[:,['bedrooms', 'accommodates']]"
   ]
  },
  {
   "cell_type": "code",
   "execution_count": 8,
   "id": "a23c39d5",
   "metadata": {},
   "outputs": [
    {
     "data": {
      "text/plain": [
       "(4774, 2)"
      ]
     },
     "execution_count": 8,
     "metadata": {},
     "output_type": "execute_result"
    }
   ],
   "source": [
    "num.shape"
   ]
  },
  {
   "cell_type": "code",
   "execution_count": 9,
   "id": "28dbf764",
   "metadata": {},
   "outputs": [],
   "source": [
    "categorical = pd.merge(categorical, num, left_index=True, right_index=True)"
   ]
  },
  {
   "cell_type": "code",
   "execution_count": 10,
   "id": "8e25c490",
   "metadata": {},
   "outputs": [],
   "source": [
    "categorical = categorical.drop(['host_identity_verified'], axis=1)"
   ]
  },
  {
   "cell_type": "code",
   "execution_count": 11,
   "id": "db523933",
   "metadata": {},
   "outputs": [
    {
     "data": {
      "text/plain": [
       "(4774, 19)"
      ]
     },
     "execution_count": 11,
     "metadata": {},
     "output_type": "execute_result"
    }
   ],
   "source": [
    "categorical.shape"
   ]
  },
  {
   "cell_type": "code",
   "execution_count": 12,
   "id": "4fb092e6",
   "metadata": {},
   "outputs": [],
   "source": [
    "#X-y split\n",
    "X = categorical.loc[:,['neighbourhood_cleansed','room_type', 'bedrooms', 'accommodates']]\n",
    "y = listings_ams_all['price']"
   ]
  },
  {
   "cell_type": "code",
   "execution_count": 13,
   "id": "66e89fca",
   "metadata": {},
   "outputs": [],
   "source": [
    "X_n = X.loc[:,['bedrooms', 'accommodates']]\n",
    "X_c = X.drop(['bedrooms', 'accommodates'], axis=1)"
   ]
  },
  {
   "cell_type": "code",
   "execution_count": 14,
   "id": "d3db65a6",
   "metadata": {},
   "outputs": [
    {
     "data": {
      "text/html": [
       "<div>\n",
       "<style scoped>\n",
       "    .dataframe tbody tr th:only-of-type {\n",
       "        vertical-align: middle;\n",
       "    }\n",
       "\n",
       "    .dataframe tbody tr th {\n",
       "        vertical-align: top;\n",
       "    }\n",
       "\n",
       "    .dataframe thead th {\n",
       "        text-align: right;\n",
       "    }\n",
       "</style>\n",
       "<table border=\"1\" class=\"dataframe\">\n",
       "  <thead>\n",
       "    <tr style=\"text-align: right;\">\n",
       "      <th></th>\n",
       "      <th>neighbourhood_cleansed</th>\n",
       "      <th>room_type</th>\n",
       "    </tr>\n",
       "  </thead>\n",
       "  <tbody>\n",
       "    <tr>\n",
       "      <th>6</th>\n",
       "      <td>Centrum-Oost</td>\n",
       "      <td>Entire home/apt</td>\n",
       "    </tr>\n",
       "    <tr>\n",
       "      <th>7</th>\n",
       "      <td>Centrum-West</td>\n",
       "      <td>Entire home/apt</td>\n",
       "    </tr>\n",
       "    <tr>\n",
       "      <th>9</th>\n",
       "      <td>Zuid</td>\n",
       "      <td>Entire home/apt</td>\n",
       "    </tr>\n",
       "    <tr>\n",
       "      <th>10</th>\n",
       "      <td>Oud-Oost</td>\n",
       "      <td>Entire home/apt</td>\n",
       "    </tr>\n",
       "    <tr>\n",
       "      <th>15</th>\n",
       "      <td>De Pijp - Rivierenbuurt</td>\n",
       "      <td>Entire home/apt</td>\n",
       "    </tr>\n",
       "    <tr>\n",
       "      <th>...</th>\n",
       "      <td>...</td>\n",
       "      <td>...</td>\n",
       "    </tr>\n",
       "    <tr>\n",
       "      <th>6802</th>\n",
       "      <td>Centrum-West</td>\n",
       "      <td>Entire home/apt</td>\n",
       "    </tr>\n",
       "    <tr>\n",
       "      <th>6803</th>\n",
       "      <td>Centrum-Oost</td>\n",
       "      <td>Entire home/apt</td>\n",
       "    </tr>\n",
       "    <tr>\n",
       "      <th>6805</th>\n",
       "      <td>De Baarsjes - Oud-West</td>\n",
       "      <td>Entire home/apt</td>\n",
       "    </tr>\n",
       "    <tr>\n",
       "      <th>6806</th>\n",
       "      <td>De Pijp - Rivierenbuurt</td>\n",
       "      <td>Entire home/apt</td>\n",
       "    </tr>\n",
       "    <tr>\n",
       "      <th>6808</th>\n",
       "      <td>De Pijp - Rivierenbuurt</td>\n",
       "      <td>Entire home/apt</td>\n",
       "    </tr>\n",
       "  </tbody>\n",
       "</table>\n",
       "<p>4774 rows × 2 columns</p>\n",
       "</div>"
      ],
      "text/plain": [
       "       neighbourhood_cleansed        room_type\n",
       "6                Centrum-Oost  Entire home/apt\n",
       "7                Centrum-West  Entire home/apt\n",
       "9                        Zuid  Entire home/apt\n",
       "10                   Oud-Oost  Entire home/apt\n",
       "15    De Pijp - Rivierenbuurt  Entire home/apt\n",
       "...                       ...              ...\n",
       "6802             Centrum-West  Entire home/apt\n",
       "6803             Centrum-Oost  Entire home/apt\n",
       "6805   De Baarsjes - Oud-West  Entire home/apt\n",
       "6806  De Pijp - Rivierenbuurt  Entire home/apt\n",
       "6808  De Pijp - Rivierenbuurt  Entire home/apt\n",
       "\n",
       "[4774 rows x 2 columns]"
      ]
     },
     "execution_count": 14,
     "metadata": {},
     "output_type": "execute_result"
    }
   ],
   "source": [
    "X_c"
   ]
  },
  {
   "cell_type": "code",
   "execution_count": 15,
   "id": "c200f748",
   "metadata": {},
   "outputs": [],
   "source": [
    "X_n = X_n.reset_index(drop=True)\n"
   ]
  },
  {
   "cell_type": "code",
   "execution_count": null,
   "id": "fbc56beb",
   "metadata": {},
   "outputs": [],
   "source": []
  },
  {
   "cell_type": "code",
   "execution_count": 16,
   "id": "472f554d",
   "metadata": {},
   "outputs": [
    {
     "data": {
      "text/html": [
       "<div>\n",
       "<style scoped>\n",
       "    .dataframe tbody tr th:only-of-type {\n",
       "        vertical-align: middle;\n",
       "    }\n",
       "\n",
       "    .dataframe tbody tr th {\n",
       "        vertical-align: top;\n",
       "    }\n",
       "\n",
       "    .dataframe thead th {\n",
       "        text-align: right;\n",
       "    }\n",
       "</style>\n",
       "<table border=\"1\" class=\"dataframe\">\n",
       "  <thead>\n",
       "    <tr style=\"text-align: right;\">\n",
       "      <th></th>\n",
       "      <th>neighbourhood_cleansed_Centrum-Oost</th>\n",
       "      <th>neighbourhood_cleansed_Centrum-West</th>\n",
       "      <th>neighbourhood_cleansed_De Baarsjes - Oud-West</th>\n",
       "      <th>neighbourhood_cleansed_De Pijp - Rivierenbuurt</th>\n",
       "      <th>neighbourhood_cleansed_IJburg - Zeeburgereiland</th>\n",
       "      <th>neighbourhood_cleansed_Noord-Oost</th>\n",
       "      <th>neighbourhood_cleansed_Noord-West</th>\n",
       "      <th>neighbourhood_cleansed_Oostelijk Havengebied - Indische Buurt</th>\n",
       "      <th>neighbourhood_cleansed_Other</th>\n",
       "      <th>neighbourhood_cleansed_Oud-Noord</th>\n",
       "      <th>neighbourhood_cleansed_Oud-Oost</th>\n",
       "      <th>neighbourhood_cleansed_Slotervaart</th>\n",
       "      <th>neighbourhood_cleansed_Watergraafsmeer</th>\n",
       "      <th>neighbourhood_cleansed_Westerpark</th>\n",
       "      <th>neighbourhood_cleansed_Zuid</th>\n",
       "    </tr>\n",
       "  </thead>\n",
       "  <tbody>\n",
       "    <tr>\n",
       "      <th>0</th>\n",
       "      <td>1.0</td>\n",
       "      <td>0.0</td>\n",
       "      <td>0.0</td>\n",
       "      <td>0.0</td>\n",
       "      <td>0.0</td>\n",
       "      <td>0.0</td>\n",
       "      <td>0.0</td>\n",
       "      <td>0.0</td>\n",
       "      <td>0.0</td>\n",
       "      <td>0.0</td>\n",
       "      <td>0.0</td>\n",
       "      <td>0.0</td>\n",
       "      <td>0.0</td>\n",
       "      <td>0.0</td>\n",
       "      <td>0.0</td>\n",
       "    </tr>\n",
       "    <tr>\n",
       "      <th>1</th>\n",
       "      <td>0.0</td>\n",
       "      <td>1.0</td>\n",
       "      <td>0.0</td>\n",
       "      <td>0.0</td>\n",
       "      <td>0.0</td>\n",
       "      <td>0.0</td>\n",
       "      <td>0.0</td>\n",
       "      <td>0.0</td>\n",
       "      <td>0.0</td>\n",
       "      <td>0.0</td>\n",
       "      <td>0.0</td>\n",
       "      <td>0.0</td>\n",
       "      <td>0.0</td>\n",
       "      <td>0.0</td>\n",
       "      <td>0.0</td>\n",
       "    </tr>\n",
       "    <tr>\n",
       "      <th>2</th>\n",
       "      <td>0.0</td>\n",
       "      <td>0.0</td>\n",
       "      <td>0.0</td>\n",
       "      <td>0.0</td>\n",
       "      <td>0.0</td>\n",
       "      <td>0.0</td>\n",
       "      <td>0.0</td>\n",
       "      <td>0.0</td>\n",
       "      <td>0.0</td>\n",
       "      <td>0.0</td>\n",
       "      <td>0.0</td>\n",
       "      <td>0.0</td>\n",
       "      <td>0.0</td>\n",
       "      <td>0.0</td>\n",
       "      <td>1.0</td>\n",
       "    </tr>\n",
       "    <tr>\n",
       "      <th>3</th>\n",
       "      <td>0.0</td>\n",
       "      <td>0.0</td>\n",
       "      <td>0.0</td>\n",
       "      <td>0.0</td>\n",
       "      <td>0.0</td>\n",
       "      <td>0.0</td>\n",
       "      <td>0.0</td>\n",
       "      <td>0.0</td>\n",
       "      <td>0.0</td>\n",
       "      <td>0.0</td>\n",
       "      <td>1.0</td>\n",
       "      <td>0.0</td>\n",
       "      <td>0.0</td>\n",
       "      <td>0.0</td>\n",
       "      <td>0.0</td>\n",
       "    </tr>\n",
       "    <tr>\n",
       "      <th>4</th>\n",
       "      <td>0.0</td>\n",
       "      <td>0.0</td>\n",
       "      <td>0.0</td>\n",
       "      <td>1.0</td>\n",
       "      <td>0.0</td>\n",
       "      <td>0.0</td>\n",
       "      <td>0.0</td>\n",
       "      <td>0.0</td>\n",
       "      <td>0.0</td>\n",
       "      <td>0.0</td>\n",
       "      <td>0.0</td>\n",
       "      <td>0.0</td>\n",
       "      <td>0.0</td>\n",
       "      <td>0.0</td>\n",
       "      <td>0.0</td>\n",
       "    </tr>\n",
       "    <tr>\n",
       "      <th>...</th>\n",
       "      <td>...</td>\n",
       "      <td>...</td>\n",
       "      <td>...</td>\n",
       "      <td>...</td>\n",
       "      <td>...</td>\n",
       "      <td>...</td>\n",
       "      <td>...</td>\n",
       "      <td>...</td>\n",
       "      <td>...</td>\n",
       "      <td>...</td>\n",
       "      <td>...</td>\n",
       "      <td>...</td>\n",
       "      <td>...</td>\n",
       "      <td>...</td>\n",
       "      <td>...</td>\n",
       "    </tr>\n",
       "    <tr>\n",
       "      <th>4769</th>\n",
       "      <td>0.0</td>\n",
       "      <td>1.0</td>\n",
       "      <td>0.0</td>\n",
       "      <td>0.0</td>\n",
       "      <td>0.0</td>\n",
       "      <td>0.0</td>\n",
       "      <td>0.0</td>\n",
       "      <td>0.0</td>\n",
       "      <td>0.0</td>\n",
       "      <td>0.0</td>\n",
       "      <td>0.0</td>\n",
       "      <td>0.0</td>\n",
       "      <td>0.0</td>\n",
       "      <td>0.0</td>\n",
       "      <td>0.0</td>\n",
       "    </tr>\n",
       "    <tr>\n",
       "      <th>4770</th>\n",
       "      <td>1.0</td>\n",
       "      <td>0.0</td>\n",
       "      <td>0.0</td>\n",
       "      <td>0.0</td>\n",
       "      <td>0.0</td>\n",
       "      <td>0.0</td>\n",
       "      <td>0.0</td>\n",
       "      <td>0.0</td>\n",
       "      <td>0.0</td>\n",
       "      <td>0.0</td>\n",
       "      <td>0.0</td>\n",
       "      <td>0.0</td>\n",
       "      <td>0.0</td>\n",
       "      <td>0.0</td>\n",
       "      <td>0.0</td>\n",
       "    </tr>\n",
       "    <tr>\n",
       "      <th>4771</th>\n",
       "      <td>0.0</td>\n",
       "      <td>0.0</td>\n",
       "      <td>1.0</td>\n",
       "      <td>0.0</td>\n",
       "      <td>0.0</td>\n",
       "      <td>0.0</td>\n",
       "      <td>0.0</td>\n",
       "      <td>0.0</td>\n",
       "      <td>0.0</td>\n",
       "      <td>0.0</td>\n",
       "      <td>0.0</td>\n",
       "      <td>0.0</td>\n",
       "      <td>0.0</td>\n",
       "      <td>0.0</td>\n",
       "      <td>0.0</td>\n",
       "    </tr>\n",
       "    <tr>\n",
       "      <th>4772</th>\n",
       "      <td>0.0</td>\n",
       "      <td>0.0</td>\n",
       "      <td>0.0</td>\n",
       "      <td>1.0</td>\n",
       "      <td>0.0</td>\n",
       "      <td>0.0</td>\n",
       "      <td>0.0</td>\n",
       "      <td>0.0</td>\n",
       "      <td>0.0</td>\n",
       "      <td>0.0</td>\n",
       "      <td>0.0</td>\n",
       "      <td>0.0</td>\n",
       "      <td>0.0</td>\n",
       "      <td>0.0</td>\n",
       "      <td>0.0</td>\n",
       "    </tr>\n",
       "    <tr>\n",
       "      <th>4773</th>\n",
       "      <td>0.0</td>\n",
       "      <td>0.0</td>\n",
       "      <td>0.0</td>\n",
       "      <td>1.0</td>\n",
       "      <td>0.0</td>\n",
       "      <td>0.0</td>\n",
       "      <td>0.0</td>\n",
       "      <td>0.0</td>\n",
       "      <td>0.0</td>\n",
       "      <td>0.0</td>\n",
       "      <td>0.0</td>\n",
       "      <td>0.0</td>\n",
       "      <td>0.0</td>\n",
       "      <td>0.0</td>\n",
       "      <td>0.0</td>\n",
       "    </tr>\n",
       "  </tbody>\n",
       "</table>\n",
       "<p>4774 rows × 15 columns</p>\n",
       "</div>"
      ],
      "text/plain": [
       "      neighbourhood_cleansed_Centrum-Oost  \\\n",
       "0                                     1.0   \n",
       "1                                     0.0   \n",
       "2                                     0.0   \n",
       "3                                     0.0   \n",
       "4                                     0.0   \n",
       "...                                   ...   \n",
       "4769                                  0.0   \n",
       "4770                                  1.0   \n",
       "4771                                  0.0   \n",
       "4772                                  0.0   \n",
       "4773                                  0.0   \n",
       "\n",
       "      neighbourhood_cleansed_Centrum-West  \\\n",
       "0                                     0.0   \n",
       "1                                     1.0   \n",
       "2                                     0.0   \n",
       "3                                     0.0   \n",
       "4                                     0.0   \n",
       "...                                   ...   \n",
       "4769                                  1.0   \n",
       "4770                                  0.0   \n",
       "4771                                  0.0   \n",
       "4772                                  0.0   \n",
       "4773                                  0.0   \n",
       "\n",
       "      neighbourhood_cleansed_De Baarsjes - Oud-West  \\\n",
       "0                                               0.0   \n",
       "1                                               0.0   \n",
       "2                                               0.0   \n",
       "3                                               0.0   \n",
       "4                                               0.0   \n",
       "...                                             ...   \n",
       "4769                                            0.0   \n",
       "4770                                            0.0   \n",
       "4771                                            1.0   \n",
       "4772                                            0.0   \n",
       "4773                                            0.0   \n",
       "\n",
       "      neighbourhood_cleansed_De Pijp - Rivierenbuurt  \\\n",
       "0                                                0.0   \n",
       "1                                                0.0   \n",
       "2                                                0.0   \n",
       "3                                                0.0   \n",
       "4                                                1.0   \n",
       "...                                              ...   \n",
       "4769                                             0.0   \n",
       "4770                                             0.0   \n",
       "4771                                             0.0   \n",
       "4772                                             1.0   \n",
       "4773                                             1.0   \n",
       "\n",
       "      neighbourhood_cleansed_IJburg - Zeeburgereiland  \\\n",
       "0                                                 0.0   \n",
       "1                                                 0.0   \n",
       "2                                                 0.0   \n",
       "3                                                 0.0   \n",
       "4                                                 0.0   \n",
       "...                                               ...   \n",
       "4769                                              0.0   \n",
       "4770                                              0.0   \n",
       "4771                                              0.0   \n",
       "4772                                              0.0   \n",
       "4773                                              0.0   \n",
       "\n",
       "      neighbourhood_cleansed_Noord-Oost  neighbourhood_cleansed_Noord-West  \\\n",
       "0                                   0.0                                0.0   \n",
       "1                                   0.0                                0.0   \n",
       "2                                   0.0                                0.0   \n",
       "3                                   0.0                                0.0   \n",
       "4                                   0.0                                0.0   \n",
       "...                                 ...                                ...   \n",
       "4769                                0.0                                0.0   \n",
       "4770                                0.0                                0.0   \n",
       "4771                                0.0                                0.0   \n",
       "4772                                0.0                                0.0   \n",
       "4773                                0.0                                0.0   \n",
       "\n",
       "      neighbourhood_cleansed_Oostelijk Havengebied - Indische Buurt  \\\n",
       "0                                                   0.0               \n",
       "1                                                   0.0               \n",
       "2                                                   0.0               \n",
       "3                                                   0.0               \n",
       "4                                                   0.0               \n",
       "...                                                 ...               \n",
       "4769                                                0.0               \n",
       "4770                                                0.0               \n",
       "4771                                                0.0               \n",
       "4772                                                0.0               \n",
       "4773                                                0.0               \n",
       "\n",
       "      neighbourhood_cleansed_Other  neighbourhood_cleansed_Oud-Noord  \\\n",
       "0                              0.0                               0.0   \n",
       "1                              0.0                               0.0   \n",
       "2                              0.0                               0.0   \n",
       "3                              0.0                               0.0   \n",
       "4                              0.0                               0.0   \n",
       "...                            ...                               ...   \n",
       "4769                           0.0                               0.0   \n",
       "4770                           0.0                               0.0   \n",
       "4771                           0.0                               0.0   \n",
       "4772                           0.0                               0.0   \n",
       "4773                           0.0                               0.0   \n",
       "\n",
       "      neighbourhood_cleansed_Oud-Oost  neighbourhood_cleansed_Slotervaart  \\\n",
       "0                                 0.0                                 0.0   \n",
       "1                                 0.0                                 0.0   \n",
       "2                                 0.0                                 0.0   \n",
       "3                                 1.0                                 0.0   \n",
       "4                                 0.0                                 0.0   \n",
       "...                               ...                                 ...   \n",
       "4769                              0.0                                 0.0   \n",
       "4770                              0.0                                 0.0   \n",
       "4771                              0.0                                 0.0   \n",
       "4772                              0.0                                 0.0   \n",
       "4773                              0.0                                 0.0   \n",
       "\n",
       "      neighbourhood_cleansed_Watergraafsmeer  \\\n",
       "0                                        0.0   \n",
       "1                                        0.0   \n",
       "2                                        0.0   \n",
       "3                                        0.0   \n",
       "4                                        0.0   \n",
       "...                                      ...   \n",
       "4769                                     0.0   \n",
       "4770                                     0.0   \n",
       "4771                                     0.0   \n",
       "4772                                     0.0   \n",
       "4773                                     0.0   \n",
       "\n",
       "      neighbourhood_cleansed_Westerpark  neighbourhood_cleansed_Zuid  \n",
       "0                                   0.0                          0.0  \n",
       "1                                   0.0                          0.0  \n",
       "2                                   0.0                          1.0  \n",
       "3                                   0.0                          0.0  \n",
       "4                                   0.0                          0.0  \n",
       "...                                 ...                          ...  \n",
       "4769                                0.0                          0.0  \n",
       "4770                                0.0                          0.0  \n",
       "4771                                0.0                          0.0  \n",
       "4772                                0.0                          0.0  \n",
       "4773                                0.0                          0.0  \n",
       "\n",
       "[4774 rows x 15 columns]"
      ]
     },
     "execution_count": 16,
     "metadata": {},
     "output_type": "execute_result"
    }
   ],
   "source": [
    "encoder = OneHotEncoder(drop='first')\n",
    "encoder.fit(X_c)\n",
    "\n",
    "X_c_np = encoder.transform(X_c).toarray()\n",
    "\n",
    "X_c = pd.DataFrame(X_c_np, columns=encoder.get_feature_names_out())\n",
    "\n",
    "X_c.shape\n",
    "X_c"
   ]
  },
  {
   "cell_type": "code",
   "execution_count": 17,
   "id": "e9f0013e",
   "metadata": {},
   "outputs": [
    {
     "data": {
      "text/html": [
       "<div>\n",
       "<style scoped>\n",
       "    .dataframe tbody tr th:only-of-type {\n",
       "        vertical-align: middle;\n",
       "    }\n",
       "\n",
       "    .dataframe tbody tr th {\n",
       "        vertical-align: top;\n",
       "    }\n",
       "\n",
       "    .dataframe thead th {\n",
       "        text-align: right;\n",
       "    }\n",
       "</style>\n",
       "<table border=\"1\" class=\"dataframe\">\n",
       "  <thead>\n",
       "    <tr style=\"text-align: right;\">\n",
       "      <th></th>\n",
       "      <th>bedrooms</th>\n",
       "      <th>accommodates</th>\n",
       "    </tr>\n",
       "  </thead>\n",
       "  <tbody>\n",
       "    <tr>\n",
       "      <th>0</th>\n",
       "      <td>0.286455</td>\n",
       "      <td>0.595485</td>\n",
       "    </tr>\n",
       "    <tr>\n",
       "      <th>1</th>\n",
       "      <td>0.286455</td>\n",
       "      <td>-0.096710</td>\n",
       "    </tr>\n",
       "    <tr>\n",
       "      <th>2</th>\n",
       "      <td>0.286455</td>\n",
       "      <td>0.595485</td>\n",
       "    </tr>\n",
       "    <tr>\n",
       "      <th>3</th>\n",
       "      <td>-0.751917</td>\n",
       "      <td>-0.788905</td>\n",
       "    </tr>\n",
       "    <tr>\n",
       "      <th>4</th>\n",
       "      <td>2.363200</td>\n",
       "      <td>0.595485</td>\n",
       "    </tr>\n",
       "  </tbody>\n",
       "</table>\n",
       "</div>"
      ],
      "text/plain": [
       "   bedrooms  accommodates\n",
       "0  0.286455      0.595485\n",
       "1  0.286455     -0.096710\n",
       "2  0.286455      0.595485\n",
       "3 -0.751917     -0.788905\n",
       "4  2.363200      0.595485"
      ]
     },
     "execution_count": 17,
     "metadata": {},
     "output_type": "execute_result"
    }
   ],
   "source": [
    "\n",
    "transformer = StandardScaler() \n",
    "transformer.fit(X_n) \n",
    "\n",
    "X_n_np = transformer.transform(X_n)\n",
    "X_n_scaled = pd.DataFrame(X_n_np, columns=X_n.columns, index=X_n.index)\n",
    "\n",
    "X_n_scaled.head()"
   ]
  },
  {
   "cell_type": "code",
   "execution_count": 18,
   "id": "f43542d3",
   "metadata": {},
   "outputs": [
    {
     "data": {
      "text/plain": [
       "(4774, 17)"
      ]
     },
     "execution_count": 18,
     "metadata": {},
     "output_type": "execute_result"
    }
   ],
   "source": [
    "X=pd.merge(X_n_scaled, X_c, left_index=True, right_index=True) # concat numerical and categorical transformations\n",
    "X.shape\n",
    "#X.tail()"
   ]
  },
  {
   "cell_type": "code",
   "execution_count": 19,
   "id": "055313f3",
   "metadata": {},
   "outputs": [],
   "source": [
    "#train-test-split\n",
    "X_train, X_test, y_train, y_test = train_test_split(X, y, test_size=0.2, random_state=11)"
   ]
  },
  {
   "cell_type": "code",
   "execution_count": 20,
   "id": "30652b28",
   "metadata": {},
   "outputs": [],
   "source": [
    "#sns.displot(X_train['accommodates'])"
   ]
  },
  {
   "cell_type": "code",
   "execution_count": null,
   "id": "4985fdc8",
   "metadata": {},
   "outputs": [],
   "source": []
  },
  {
   "cell_type": "code",
   "execution_count": null,
   "id": "4e1b1f49",
   "metadata": {},
   "outputs": [],
   "source": []
  },
  {
   "cell_type": "code",
   "execution_count": null,
   "id": "366b3e7d",
   "metadata": {},
   "outputs": [],
   "source": []
  },
  {
   "cell_type": "code",
   "execution_count": null,
   "id": "5f7c0635",
   "metadata": {},
   "outputs": [],
   "source": []
  },
  {
   "cell_type": "code",
   "execution_count": 22,
   "id": "a8d83ad3",
   "metadata": {},
   "outputs": [
    {
     "data": {
      "text/plain": [
       "KNeighborsRegressor(n_neighbors=3)"
      ]
     },
     "execution_count": 22,
     "metadata": {},
     "output_type": "execute_result"
    }
   ],
   "source": [
    "knn = KNeighborsRegressor(n_neighbors=3)\n",
    "knn.fit(X_train,y_train)"
   ]
  },
  {
   "cell_type": "code",
   "execution_count": 24,
   "id": "0ed50356",
   "metadata": {},
   "outputs": [],
   "source": [
    "y_pred_knn = knn.predict(X_test)"
   ]
  },
  {
   "cell_type": "code",
   "execution_count": 25,
   "id": "b9a3ff5a",
   "metadata": {},
   "outputs": [
    {
     "name": "stdout",
     "output_type": "stream",
     "text": [
      "The R2 of the k-NN model is 0.05\n"
     ]
    }
   ],
   "source": [
    "#EVALUATION\n",
    "#R2\n",
    "knn_score = knn.score(X_test, y_test)\n",
    "print(\"The R2 of the k-NN model is {:.2f}\".format(knn_score))"
   ]
  },
  {
   "cell_type": "code",
   "execution_count": null,
   "id": "8e4f4ada",
   "metadata": {},
   "outputs": [],
   "source": []
  },
  {
   "cell_type": "code",
   "execution_count": null,
   "id": "2a444578",
   "metadata": {},
   "outputs": [],
   "source": []
  },
  {
   "cell_type": "code",
   "execution_count": null,
   "id": "02f35b1a",
   "metadata": {},
   "outputs": [],
   "source": []
  },
  {
   "cell_type": "code",
   "execution_count": null,
   "id": "0cc59fa4",
   "metadata": {},
   "outputs": [],
   "source": [
    "\n"
   ]
  },
  {
   "cell_type": "code",
   "execution_count": null,
   "id": "9c134b97",
   "metadata": {},
   "outputs": [],
   "source": []
  }
 ],
 "metadata": {
  "kernelspec": {
   "display_name": "Python 3 (ipykernel)",
   "language": "python",
   "name": "python3"
  },
  "language_info": {
   "codemirror_mode": {
    "name": "ipython",
    "version": 3
   },
   "file_extension": ".py",
   "mimetype": "text/x-python",
   "name": "python",
   "nbconvert_exporter": "python",
   "pygments_lexer": "ipython3",
   "version": "3.9.12"
  }
 },
 "nbformat": 4,
 "nbformat_minor": 5
}
