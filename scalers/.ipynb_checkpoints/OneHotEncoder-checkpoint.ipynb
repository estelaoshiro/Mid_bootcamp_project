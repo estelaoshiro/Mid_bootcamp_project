{
 "cells": [
  {
   "cell_type": "code",
   "execution_count": null,
   "id": "e3acb4c6",
   "metadata": {},
   "outputs": [],
   "source": [
    "from sklearn.preprocessing import OneHotEncoder\n",
    "import pandas as pd\n"
   ]
  },
  {
   "cell_type": "code",
   "execution_count": null,
   "id": "534fc7c7",
   "metadata": {},
   "outputs": [],
   "source": [
    "encoder = OneHotEncoder(drop='first')\n",
    "encoder.fit(X_c)\n",
    "\n",
    "X_c_np = encoder.transform(X_c).toarray()\n",
    "\n",
    "X_c = pd.DataFrame(X_c_np, columns=encoder.get_feature_names_out())\n",
    "\n",
    "X_c.shape\n",
    "X_c"
   ]
  }
 ],
 "metadata": {
  "kernelspec": {
   "display_name": "Python 3 (ipykernel)",
   "language": "python",
   "name": "python3"
  },
  "language_info": {
   "codemirror_mode": {
    "name": "ipython",
    "version": 3
   },
   "file_extension": ".py",
   "mimetype": "text/x-python",
   "name": "python",
   "nbconvert_exporter": "python",
   "pygments_lexer": "ipython3",
   "version": "3.9.16"
  }
 },
 "nbformat": 4,
 "nbformat_minor": 5
}
